{
  "nbformat": 4,
  "nbformat_minor": 0,
  "metadata": {
    "colab": {
      "name": "PhotosynthesisModel.ipynb",
      "provenance": [],
      "authorship_tag": "ABX9TyPAjZzh88Y62dS3gdTEyB94",
      "include_colab_link": true
    },
    "kernelspec": {
      "name": "python3",
      "display_name": "Python 3"
    }
  },
  "cells": [
    {
      "cell_type": "markdown",
      "metadata": {
        "id": "view-in-github",
        "colab_type": "text"
      },
      "source": [
        "<a href=\"https://colab.research.google.com/github/TobGerken/PhotosynthesisLab/blob/master/PhotosynthesisModel.ipynb\" target=\"_parent\"><img src=\"https://colab.research.google.com/assets/colab-badge.svg\" alt=\"Open In Colab\"/></a>"
      ]
    },
    {
      "cell_type": "code",
      "metadata": {
        "id": "CJZChz1u7vKR",
        "colab_type": "code",
        "colab": {}
      },
      "source": [
        "import numpy as np"
      ],
      "execution_count": 1,
      "outputs": []
    },
    {
      "cell_type": "code",
      "metadata": {
        "id": "gUa39wiO6aIM",
        "colab_type": "code",
        "colab": {
          "base_uri": "https://localhost:8080/",
          "height": 35
        },
        "outputId": "506cac3e-5a3e-4ced-9ac6-10381ca33a2d"
      },
      "source": [
        "LAI = 8\n",
        "K = 0.18\n",
        "B = 600 \n",
        "Pmax  = 9\n",
        "CO2ref = 400\n",
        "gamma = 50\n",
        "KCO2 = 500\n",
        "cT = -.1\n",
        "T0 = -5\n",
        "\n",
        "T = 20\n",
        "PAR = 500\n",
        "CO2 = 400\n",
        "T0 = -5\n",
        "\n",
        "f_T = 1 - np.exp(cT*(T-T0))\n",
        "\n",
        "f_LAI= 1 / K * (1  - np.exp(-K * LAI))\n",
        "f_PAR = Pmax * PAR / (PAR + B)\n",
        "f_CO2 = (CO2 - gamma) / (CO2 + gamma + KCO2) * (CO2ref + gamma + KCO2 ) / (CO2ref - gamma)\n",
        "\n",
        "P = f_LAI * f_PAR *  f_T * f_CO2\n",
        "P\n"
      ],
      "execution_count": 14,
      "outputs": [
        {
          "output_type": "execute_result",
          "data": {
            "text/plain": [
              "15.91898766907647"
            ]
          },
          "metadata": {
            "tags": []
          },
          "execution_count": 14
        }
      ]
    },
    {
      "cell_type": "code",
      "metadata": {
        "id": "vtENYKEd8qRW",
        "colab_type": "code",
        "colab": {
          "base_uri": "https://localhost:8080/",
          "height": 35
        },
        "outputId": "114e0900-8463-46b3-f798-73c8cec27405"
      },
      "source": [
        ""
      ],
      "execution_count": 4,
      "outputs": [
        {
          "output_type": "execute_result",
          "data": {
            "text/plain": [
              "0.36787944117144233"
            ]
          },
          "metadata": {
            "tags": []
          },
          "execution_count": 4
        }
      ]
    },
    {
      "cell_type": "code",
      "metadata": {
        "id": "MRJjcWIp8zb0",
        "colab_type": "code",
        "colab": {}
      },
      "source": [
        ""
      ],
      "execution_count": null,
      "outputs": []
    }
  ]
}
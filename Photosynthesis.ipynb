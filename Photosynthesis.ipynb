{
 "cells": [
  {
   "cell_type": "code",
   "execution_count": 4,
   "metadata": {},
   "outputs": [],
   "source": [
    "import numpy as np\n",
    "import Photosynthesis"
   ]
  },
  {
   "cell_type": "markdown",
   "metadata": {},
   "source": [
    "## Designing an experiment"
   ]
  },
  {
   "cell_type": "markdown",
   "metadata": {},
   "source": [
    "You are a climate scientist, who is interested in the role that forests play in removing Carbon Dioxide from the atmosphere. \n",
    "\n",
    "You know that plants conduct photosynthesis during which carbon dioxide is taken from the atmosphere to produce surgars\n",
    "\n",
    "<img src=\"https://upload.wikimedia.org/wikipedia/commons/thumb/5/55/Photosynthesis_en.svg/220px-Photosynthesis_en.svg.png\"\n",
    "     alt=\"Photosynthesis Image\"\n",
    "     style=\"float: left; margin-right: 10px;\" />"
   ]
  },
  {
   "cell_type": "markdown",
   "metadata": {},
   "source": [
    "We have not covered this in our course yet, but this is the relevant chemical summary equation."
   ]
  },
  {
   "cell_type": "markdown",
   "metadata": {},
   "source": [
    " <img src=\"https://upload.wikimedia.org/wikipedia/commons/thumb/f/fd/Photosynthesis_equation.svg/400px-Photosynthesis_equation.svg.png\"\n",
    "     alt=\"Photosynthesis Equation\"\n",
    "     style=\"float: left; margin-right: 10px;\" />\n",
    "   "
   ]
  },
  {
   "cell_type": "markdown",
   "metadata": {},
   "source": [
    "You are concerned that a changing climate might change the forests' ability to remove carbon from the atmosphere. "
   ]
  },
  {
   "cell_type": "code",
   "execution_count": 23,
   "metadata": {},
   "outputs": [
    {
     "ename": "SyntaxError",
     "evalue": "invalid syntax (<ipython-input-23-fb8e12280fc2>, line 1)",
     "output_type": "error",
     "traceback": [
      "\u001b[1;36m  File \u001b[1;32m\"<ipython-input-23-fb8e12280fc2>\"\u001b[1;36m, line \u001b[1;32m1\u001b[0m\n\u001b[1;33m    Specifically, your are interested to better understand how photosynthesis might be affected in a warming world.\u001b[0m\n\u001b[1;37m                         ^\u001b[0m\n\u001b[1;31mSyntaxError\u001b[0m\u001b[1;31m:\u001b[0m invalid syntax\n"
     ]
    }
   ],
   "source": [
    "T=15       # Air temperature in degree Celsius\n",
    "LAI=8      # Total Leaf Area of forest in m2/m2\n",
    "PAR = 500  # Available light in photon flux density micromol/m2/s\n",
    "CO2 = 400  # Ambient CO2 level "
   ]
  },
  {
   "cell_type": "code",
   "execution_count": 22,
   "metadata": {},
   "outputs": [
    {
     "name": "stdout",
     "output_type": "stream",
     "text": [
      "The input values are:  T =  15 degC, LAI =  8 m2/m2, PAR =  500, umol/m2/s and CO2 =  400 ppm\n",
      "The resulting photosynthesis level is:    20.89 mol/m2/s\n"
     ]
    }
   ],
   "source": [
    "print(\"The input values are:  T = %3d degC, LAI = %2d m2/m2, PAR = %4d, umol/m2/s and CO2 = %4d ppm\" % (T,LAI,PAR,CO2))\n",
    "P=(Photosynthesis.model(T,LAI,PAR,CO2))\n",
    "print(\"The resulting photosynthesis level is: %8.2f mol/m2/s\" % P)"
   ]
  },
  {
   "cell_type": "code",
   "execution_count": null,
   "metadata": {},
   "outputs": [],
   "source": []
  }
 ],
 "metadata": {
  "kernelspec": {
   "display_name": "Python 3",
   "language": "python",
   "name": "python3"
  },
  "language_info": {
   "codemirror_mode": {
    "name": "ipython",
    "version": 3
   },
   "file_extension": ".py",
   "mimetype": "text/x-python",
   "name": "python",
   "nbconvert_exporter": "python",
   "pygments_lexer": "ipython3",
   "version": "3.7.3"
  }
 },
 "nbformat": 4,
 "nbformat_minor": 2
}

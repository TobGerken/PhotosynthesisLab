{
 "cells": [
  {
   "cell_type": "code",
   "execution_count": 4,
   "metadata": {},
   "outputs": [],
   "source": [
    "import numpy as np\n",
    "import Photosynthesis"
   ]
  },
  {
   "cell_type": "code",
   "execution_count": 9,
   "metadata": {},
   "outputs": [],
   "source": [
    "T=15       # Air temperature in degree Celsius\n",
    "LAI=8      # Total Leaf Area of forest in m2/m2\n",
    "PAR = 500  # Available light in photon flux density micromol/m2/s\n",
    "CO2 = 400  # Ambient CO2 level "
   ]
  },
  {
   "cell_type": "code",
   "execution_count": 22,
   "metadata": {},
   "outputs": [
    {
     "name": "stdout",
     "output_type": "stream",
     "text": [
      "The input values are:  T =  15 degC, LAI =  8 m2/m2, PAR =  500, umol/m2/s and CO2 =  400 ppm\n",
      "The resulting photosynthesis level is:    20.89 mol/m2/s\n"
     ]
    }
   ],
   "source": [
    "print(\"The input values are:  T = %3d degC, LAI = %2d m2/m2, PAR = %4d, umol/m2/s and CO2 = %4d ppm\" % (T,LAI,PAR,CO2))\n",
    "P=(Photosynthesis.model(T,LAI,PAR,CO2))\n",
    "print(\"The resulting photosynthesis level is: %8.2f mol/m2/s\" % P)"
   ]
  },
  {
   "cell_type": "code",
   "execution_count": null,
   "metadata": {},
   "outputs": [],
   "source": []
  }
 ],
 "metadata": {
  "kernelspec": {
   "display_name": "Python 3",
   "language": "python",
   "name": "python3"
  },
  "language_info": {
   "codemirror_mode": {
    "name": "ipython",
    "version": 3
   },
   "file_extension": ".py",
   "mimetype": "text/x-python",
   "name": "python",
   "nbconvert_exporter": "python",
   "pygments_lexer": "ipython3",
   "version": "3.7.3"
  }
 },
 "nbformat": 4,
 "nbformat_minor": 2
}

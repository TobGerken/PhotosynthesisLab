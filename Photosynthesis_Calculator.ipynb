{
 "cells": [
  {
   "cell_type": "markdown",
   "metadata": {},
   "source": [
    "# Conduct your experiment"
   ]
  },
  {
   "cell_type": "markdown",
   "metadata": {},
   "source": [
    "This is a simple simulator that I built using **Jupyter notebooks**. In short, this allows you to execute a model in your web browser. \n",
    "\n",
    "**Jupyter notebooks** are made up of cells (or boxes) that can contain text or computer code. \n",
    "If you double click on a cell, you can edit these like a Word document. \n",
    "\n",
    "Clicking \"Shift + Enter\" (on a PC) or the *Run button* at the top center will allow you to leave a cell and to execute any calculations it contains. \n",
    "\n",
    "Why dont you try this now. Click on the cell below (1+2) and see what happens if you run this cell. "
   ]
  },
  {
   "cell_type": "code",
   "execution_count": 1,
   "metadata": {},
   "outputs": [
    {
     "data": {
      "text/plain": [
       "3"
      ]
     },
     "execution_count": 1,
     "metadata": {},
     "output_type": "execute_result"
    }
   ],
   "source": [
    "1+2"
   ]
  },
  {
   "cell_type": "markdown",
   "metadata": {},
   "source": [
    "Neat, the cell worked like a calculator. Now run the next cell. "
   ]
  },
  {
   "cell_type": "code",
   "execution_count": 2,
   "metadata": {},
   "outputs": [],
   "source": [
    "# This is a comment. It is just text within a calculation box. Nothing will happen!"
   ]
  },
  {
   "cell_type": "markdown",
   "metadata": {},
   "source": [
    "Now run the next cell. we need these things in order to run our simulator. If you want to run a cell again, you have to click at it again as the "
   ]
  },
  {
   "cell_type": "code",
   "execution_count": 1,
   "metadata": {},
   "outputs": [],
   "source": [
    "import numpy as np\n",
    "import Photosynthesis"
   ]
  },
  {
   "cell_type": "markdown",
   "metadata": {},
   "source": [
    "We can now run the model.\n",
    "\n",
    "To do so, run the cell below several times **without changing anything**.\n",
    "\n",
    "\n",
    "What do you notice about the result? If you were to do these measurements in reality, would you expect the results to always be the same? Why or why not?"
   ]
  },
  {
   "cell_type": "code",
   "execution_count": 39,
   "metadata": {},
   "outputs": [
    {
     "name": "stdout",
     "output_type": "stream",
     "text": [
      "The input values are:  T =  20 degC, LA =  6 m2/m2, PAR =  500, umol/m2/s and CO2 =  400 ppm\n",
      "\n",
      "The resulting uptake of CO2 from the forest is:    21.72 umol/m2/s\n"
     ]
    }
   ],
   "source": [
    "# T is the air temperature in degree Celsius.  Hint: You could try values in the range of 0 to 50\n",
    "# LA is the leaf area of the forest in m2 of leaves per m2 of forest area. Hint: A typical range for forests is 0 to 8\n",
    "# PAR is the available light for photosynthesis. The unit is micromol/m2/s (but this is not important). \n",
    "#      Hint: 0 to 1500 is a realistic range in nature.\n",
    "# CO2 is the atmospheric CO2 concentration in parts per million. We are currently at around 400 ppm. \n",
    "    #You can try values between 300 and 600 (If you chose very high concentrations the model will become unrealistic)  \n",
    "\n",
    "\n",
    "# You can modify the values in the 4 lines below. Remember to just change one at a time. \n",
    "T=20\n",
    "LAI=6      \n",
    "PAR = 500\n",
    "CO2 = 400\n",
    "\n",
    "# Do not change anything below this line.\n",
    "print(\"The input values are:  T = %3d degC, LA = %2d m2/m2, PAR = %4d, umol/m2/s and CO2 = %4d ppm\" % (T,LAI,PAR,CO2))\n",
    "P=(Photosynthesis.model(T,LAI,PAR,CO2))\n",
    "print(\"\")\n",
    "print(\"The resulting uptake of CO2 by the forest is: %8.2f umol/m2/s\" % P)"
   ]
  },
  {
   "cell_type": "markdown",
   "metadata": {},
   "source": [
    "**Now that you have familiarized yourself with the model, you can explore the relationship between environmental conditions and forest carbon uptake** \n",
    "\n",
    "To do so change the numbers in the cell above. Do not change more than one number at the time. And keep a good record of what you did.\n",
    "\n",
    "You should be aware that this model is very simple and might behave in unrealistic ways. "
   ]
  },
  {
   "cell_type": "code",
   "execution_count": 5,
   "metadata": {},
   "outputs": [],
   "source": [
    "# These are some good default values. Do not delete these here. \n",
    "# They will allow you to go back to your original configuration.\n",
    "# T=15       # Air temperature in degree Celsius (15 is the Earth's mean surface temperature)\n",
    "# LA=6       # Total Leaf Area of forest in m2/m2\n",
    "# PAR = 500  # Available light for photosynthesis. in photon flux density micromol/m2/s\n",
    "# CO2 = 400  # The ambient CO2 concentration in ppm "
   ]
  },
  {
   "cell_type": "code",
   "execution_count": null,
   "metadata": {},
   "outputs": [],
   "source": []
  }
 ],
 "metadata": {
  "kernelspec": {
   "display_name": "Python 3",
   "language": "python",
   "name": "python3"
  },
  "language_info": {
   "codemirror_mode": {
    "name": "ipython",
    "version": 3
   },
   "file_extension": ".py",
   "mimetype": "text/x-python",
   "name": "python",
   "nbconvert_exporter": "python",
   "pygments_lexer": "ipython3",
   "version": "3.7.3"
  }
 },
 "nbformat": 4,
 "nbformat_minor": 2
}
